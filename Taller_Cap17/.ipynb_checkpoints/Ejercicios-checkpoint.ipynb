{
 "cells": [
  {
   "cell_type": "markdown",
   "metadata": {},
   "source": [
    "### Determinar\n",
    "###a) *La media*\n",
    "###b) *La desviacion  estandar*\n",
    "###c) *La varianza*\n",
    "###d)  *El coeficiente de variacion*\n",
    "###e)  *El intervalo de confianza del 95% para la media*"
   ]
  },
  {
   "cell_type": "code",
   "execution_count": 11,
   "metadata": {
    "collapsed": false
   },
   "outputs": [
    {
     "name": "stdout",
     "output_type": "stream",
     "text": [
      "La media es 9.652\n",
      "La desviacion estantar es: 0.703041013503\n",
      "La varianza es: 11.8624\n",
      "El coeficiente de variacion es: 7.28388948925%\n"
     ]
    }
   ],
   "source": [
    "import math\n",
    "x=[8.8,9.5,9.8,9.4,10.0,9.4,10.1,9.2,11.3,9.4,10.0,10.4,7.9,10.4,9.8,9.8,9.5,8.9,8.8,10.6,10.1,9.5,9.6,10.2,8.9]\n",
    "n=25\n",
    "j=0;\n",
    "suma=0.0;\n",
    "while(j<n):\n",
    "    suma+=x[j]\n",
    "    j+=1\n",
    "    \n",
    "media=suma/n \n",
    "#print \"La media es \"+str(promediarLista(x))\n",
    "\n",
    "\n",
    "st=0\n",
    "i=0\n",
    "while(i<n):\n",
    "    resta=((x[i]-media)**2)\n",
    "    st+=resta\n",
    "    i+=1\n",
    "dest=math.sqrt((st)/(n-1))  \n",
    "print \"La media es \"+str(media)\n",
    "print \"La desviacion estantar es: \"+ str(dest)\n",
    "print \"La varianza es: \"+str(st)\n",
    "print \"El coeficiente de variacion es: \"+str((dest/media)*100)+\"%\""
   ]
  },
  {
   "cell_type": "markdown",
   "metadata": {
    "collapsed": true
   },
   "source": [
    "###Ejercicio 17.2"
   ]
  },
  {
   "cell_type": "code",
   "execution_count": 18,
   "metadata": {
    "collapsed": false
   },
   "outputs": [
    {
     "data": {
      "image/png": "[encoded data removed]",
      "text/plain": [
       "<matplotlib.figure.Figure at 0x58e38b0>"
      ]
     },
     "metadata": {},
     "output_type": "display_data"
    }
   ],
   "source": [
    "import random\n",
    "from matplotlib.pylab import hist, show\n",
    "%matplotlib inline\n",
    "x=[8.8,9.5,9.8,9.4,10.0,9.4,10.1,9.2,11.3,9.4,10.0,10.4,7.9,10.4,9.8,9.8,9.5,8.9,8.8,10.6,10.1,9.5,9.6,10.2,8.9]\n",
    "\n",
    "hist(x,25, (7.5,11.5))\n",
    "show()"
   ]
  },
  {
   "cell_type": "markdown",
   "metadata": {},
   "source": [
    "###Ejercicio 17.3 Determinar\n",
    "###a) La media\n",
    "###b) La desviacion estandar\n",
    "###c)La varianza\n",
    "###d) el coeficiente de variacion\n",
    "###e)El intervalo de confianza del 90% para la media\n",
    "###f)Construya un histograma. Use un rango de 26 a 32 con incrementos de 0.5\n",
    "###g)Si se suponde que la distribucion normal y que la estimacion de la desviacion estandar es valida, calcule el rango(es decir, los valores inferior y superior) que agrupa al 68% de los datos. Determine si esta es una estimacion valida para los datos del problema"
   ]
  },
  {
   "cell_type": "code",
   "execution_count": 50,
   "metadata": {
    "collapsed": false
   },
   "outputs": [
    {
     "name": "stdout",
     "output_type": "stream",
     "text": [
      "La media es 28.0035714286\n",
      "La desviacion estantar es: 1.09729706395\n",
      "La varianza es: 32.5096428571\n",
      "El coeficiente de variacion es: 3.9184182873%\n"
     ]
    },
    {
     "data": {
      "image/png": "[encoded data removed]",
      "text/plain": [
       "<matplotlib.figure.Figure at 0x5746270>"
      ]
     },
     "metadata": {},
     "output_type": "display_data"
    }
   ],
   "source": [
    "import random\n",
    "from matplotlib.pylab import hist, show\n",
    "%matplotlib inline\n",
    "x=[28.65,26.55,26.65,27.65,27.35,28.35,26.85,28.65,29.65,27.85,27.05,28.25,28.35,26.75,27.65,28.45,28.65,28.45,31.65,26.35,27.75,29.25,27.65,28.65,27.65,28.55,27.55,27.25]\n",
    "n=len(x)\n",
    "j=0;\n",
    "suma=0.0;\n",
    "while(j<n):\n",
    "    suma+=x[j]\n",
    "    j+=1\n",
    "    \n",
    "media=suma/n \n",
    "st=0\n",
    "i=0\n",
    "while(i<n):\n",
    "    resta=((x[i]-media)**2)\n",
    "    st+=resta\n",
    "    i+=1\n",
    "dest=math.sqrt((st)/(n-1))  \n",
    "print \"La media es \"+str(media)\n",
    "print \"La desviacion estantar es: \"+ str(dest)\n",
    "print \"La varianza es: \"+str(st)\n",
    "print \"El coeficiente de variacion es: \"+str((dest/media)*100)+\"%\"\n",
    "hist(x,28, (26,32,))\n",
    "show()"
   ]
  },
  {
   "cell_type": "markdown",
   "metadata": {
    "collapsed": true
   },
   "source": [
    "###17.4\n",
    "###Utilice la regresion por minimos cuadrados para ajustar una linea reacta a \n",
    "### X= 0 2  4 6 9 11 12  15 17 19\n",
    "###Y= 5  6  7 6 9  8    7   10 12 12\n",
    "###Ademas de la pendiente y la interseccion, calcule el error estandar de la estimacion y el coeficiente de correlacion.Haga una grafica de los datos y la linea de la regresion.Despues repita el problema pero ahora efectue la regresion de x vs y, es decir intercambie las variables\n",
    "###"
   ]
  },
  {
   "cell_type": "code",
   "execution_count": 55,
   "metadata": {
    "collapsed": false
   },
   "outputs": [
    {
     "name": "stdout",
     "output_type": "stream",
     "text": [
      "|Xi     |Yi             |(Yi-Y)^2   |(Yi-a0-a1Xi)^2)|\n",
      "|-------|---------------|-----------|---------------|\n",
      "|0      |5              |10.24      |0.0220417432411|\n",
      "|2      |6              |4.84       |0.196714159155|\n",
      "|4      |7              |1.44       |0.545507476814|\n",
      "|6      |6              |4.84       |0.933842256966|\n",
      "|9      |9              |0.64       |0.953034736123|\n",
      "|11     |8              |0.04       |0.531010889464|\n",
      "|12     |7              |1.44       |4.33128896383|\n",
      "|15     |10             |3.24       |0.0192057411662|\n",
      "|17     |12             |14.44      |1.33743512044|\n",
      "|19     |12             |14.44      |0.20388419985|\n",
      "Error estandar estimado 1.0650096999\n",
      "Coeficiente de correlacion 0.998778468119\n"
     ]
    },
    {
     "data": {
      "image/png": "[encoded data removed]",
      "text/plain": [
       "<matplotlib.figure.Figure at 0x78290b0>"
      ]
     },
     "metadata": {},
     "output_type": "display_data"
    }
   ],
   "source": [
    "import math\n",
    "import numpy as np\n",
    "import matplotlib.pyplot as ptl\n",
    "%matplotlib inline\n",
    "x=[0,2,4,6,9,11,12,15,17,19]\n",
    "y=[5,6,7,6,9,8,7,10,12,12]\n",
    "a1=0.0\n",
    "n=10\n",
    "i=0\n",
    "sum1=0.0\n",
    "sum2=0.0\n",
    "sum3=0.0\n",
    "sum4=0.0\n",
    "while(i<n):\n",
    "    sum1+=(x[i])*(y[i])\n",
    "    sum2+=x[i]\n",
    "    sum3+=y[i]\n",
    "    sum4+=(x[i])**2\n",
    "    i+=1\n",
    "tot1=n*sum1\n",
    "tot2=sum3*sum2\n",
    "tot3=n*sum4\n",
    "tot4=sum2**2\n",
    "\n",
    "a1=(tot1-tot2)/(tot3-tot4)\n",
    "a0=sum3/n-(a1*(sum2/n))\n",
    "sm1=0.0\n",
    "sm2=0.0\n",
    "sr=0.0\n",
    "st=0.0\n",
    "j=0\n",
    "print \"|%-7s|%-15s|%-11s|%-11s|\"%(\"Xi\",\"Yi\",\"(Yi-Y)^2\",\"(Yi-a0-a1Xi)^2)\")\n",
    "print \"|%-7s|%-15s|%-11s|%-12s|\"%(\"-------\",\"---------------\",\"-----------\",\"---------------\")\n",
    "while(j<n):\n",
    "    to1=(y[j]-(sum3/n))**2\n",
    "    sm1+=to1\n",
    "    to2=(y[j]-a0-a1*x[j])**2\n",
    "    sm2+=to2\n",
    "    sr+=(y[j]-a0-a1*x[j])**2\n",
    "    st+=(y[j]-(sum3/3))**2\n",
    "    print \"|%-7s|%-15.5s|%-11s|%-11s|\"%(x[j],y[j],to1,to2)\n",
    "    j+=1\n",
    "Ers=math.sqrt(sr/(n-2))\n",
    "coe=math.sqrt((st-sr)/(st))\n",
    "print \"Error estandar estimado \"+str(Ers)\n",
    "print \"Coeficiente de correlacion \"+str(coe)\n",
    "w=np.arange(0,20,0.1)\n",
    "z=a0+a1*w\n",
    "ptl.plot(w,z,'blue')\n",
    "ptl.plot(x,y,'ro')\n",
    "ptl.title(\"Ejercicio 17.4\", fontsize = 20)\n",
    "ptl.legend(loc=\"upper left\")\n",
    "ptl.grid(True)\n",
    "ptl.show()\n",
    "\n",
    "\n"
   ]
  },
  {
   "cell_type": "code",
   "execution_count": null,
   "metadata": {
    "collapsed": true
   },
   "outputs": [],
   "source": []
  }
 ],
 "metadata": {
  "kernelspec": {
   "display_name": "Python 2",
   "language": "python",
   "name": "python2"
  },
  "language_info": {
   "codemirror_mode": {
    "name": "ipython",
    "version": 2
   },
   "file_extension": ".py",
   "mimetype": "text/x-python",
   "name": "python",
   "nbconvert_exporter": "python",
   "pygments_lexer": "ipython2",
   "version": "2.7.10"
  }
 },
 "nbformat": 4,
 "nbformat_minor": 0
}

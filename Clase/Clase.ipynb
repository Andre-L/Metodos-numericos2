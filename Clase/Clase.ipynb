{
 "cells": [
  {
   "cell_type": "code",
   "execution_count": 15,
   "metadata": {
    "collapsed": false
   },
   "outputs": [],
   "source": [
    "import math\n",
    "import numpy as np\n",
    "import matplotlib.pyplot as ptl\n",
    "\n",
    "def grafica():\n",
    "    x=np.arange(-2,6,0.1)\n",
    "    y=(-3*x/2)+9\n",
    "    z=(x/2)+1\n",
    "    ptl.plot(x,y,'salmon')\n",
    "    ptl.plot(x,z,'dodgerblue')\n",
    "    ptl.grid(True)\n",
    "    ptl.show()\n",
    "\n",
    "grafica()"
   ]
  },
  {
   "cell_type": "code",
   "execution_count": 30,
   "metadata": {
    "collapsed": true
   },
   "outputs": [],
   "source": [
    "#A NO HAY SOLUCION\n",
    "import math\n",
    "import numpy as np\n",
    "import matplotlib.pyplot as ptl\n",
    "\n",
    "def grafica():\n",
    "    x=np.arange(-2,6,0.1)\n",
    "    y=(1*x/2)+1\n",
    "    z=1/2+(x/2)\n",
    "    ptl.plot(x,y,'mediumseagreen')\n",
    "    ptl.plot(x,z,'dodgerblue')\n",
    "    ptl.grid(True)\n",
    "    ptl.show()\n",
    "\n",
    "grafica()"
   ]
  },
  {
   "cell_type": "code",
   "execution_count": 31,
   "metadata": {
    "collapsed": false
   },
   "outputs": [],
   "source": [
    "#B INFINIDAD DE SOLUCIONES\n",
    "import math\n",
    "import numpy as np\n",
    "import matplotlib.pyplot as ptl\n",
    "\n",
    "def grafica():\n",
    "    x=np.arange(-2,6,0.1)\n",
    "    y=(1*x/2)+1\n",
    "    z=(2+x)/2\n",
    "    ptl.plot(x,y,'om')\n",
    "    ptl.plot(x,z,'cadetblue')\n",
    "    ptl.grid(True)\n",
    "    ptl.show()\n",
    "\n",
    "grafica()"
   ]
  },
  {
   "cell_type": "code",
   "execution_count": 34,
   "metadata": {
    "collapsed": true
   },
   "outputs": [],
   "source": [
    "#C DIFICIL DETECTAR EL PUNTO DE INTERSECCION\n",
    "import math\n",
    "import numpy as np\n",
    "import matplotlib.pyplot as ptl\n",
    "\n",
    "def grafica():\n",
    "    x=np.arange(-2,4,0.1)\n",
    "    y=1.1+((2.3*x)/5)\n",
    "    z=(1*x/2)+1\n",
    "    ptl.plot(x,y,'tomato')\n",
    "    ptl.plot(x,z,'olive')\n",
    "    ptl.grid(True)\n",
    "    ptl.show()\n",
    "    \n",
    "grafica()\n"
   ]
  },
  {
   "cell_type": "code",
   "execution_count": 41,
   "metadata": {
    "collapsed": false,
    "scrolled": true
   },
   "outputs": [
    {
     "name": "stderr",
     "output_type": "stream",
     "text": [
      "C:\\Anaconda\\lib\\site-packages\\matplotlib\\text.py:52: UnicodeWarning: Unicode equal comparison failed to convert both arguments to Unicode - interpreting them as being unequal\n",
      "  if rotation in ('horizontal', None):\n",
      "C:\\Anaconda\\lib\\site-packages\\matplotlib\\text.py:54: UnicodeWarning: Unicode equal comparison failed to convert both arguments to Unicode - interpreting them as being unequal\n",
      "  elif rotation == 'vertical':\n"
     ]
    }
   ],
   "source": [
    "from numpy import exp,arange\n",
    "from pylab import meshgrid,cm,imshow,contour,clabel,colorbar,axis,title,show\n",
    "\n",
    "# the function that I'm going to plot\n",
    "def z_func(x,y):\n",
    " return (1-(x**2+y**3))*exp(-(x**2+y**2)/2)\n",
    " \n",
    "x = arange(-3.0,3.0,0.1)\n",
    "y = arange(-3.0,3.0,0.1)\n",
    "X,Y = meshgrid(x, y) # grid of point\n",
    "Z = z_func(X, Y) # evaluation of the function on the grid\n",
    "\n",
    "im = imshow(Z,cmap=cm.RdBu) # drawing the function\n",
    "# adding the Contour lines with labels\n",
    "cset = contour(Z,arange(-1,1.5,0.2),linewidths=2,cmap=cm.Set2)\n",
    "clabel(cset,inline=True,fmt='%1.1f',fontsize=10)\n",
    "colorbar(im) # adding the colobar on the right\n",
    "# latex fashion title\n",
    "title('$z=(1-x^2+y^3) e^{-(x^2+y^2)/2}$')\n",
    "show()"
   ]
  },
  {
   "cell_type": "code",
   "execution_count": 50,
   "metadata": {
    "collapsed": false
   },
   "outputs": [],
   "source": [
    "from mpl_toolkits.mplot3d import Axes3D\n",
    "from matplotlib import cm\n",
    "from matplotlib.ticker import LinearLocator, FormatStrFormatter\n",
    "import matplotlib.pyplot as plt\n",
    "\n",
    "fig = plt.figure()\n",
    "ax = fig.gca(projection='3d')\n",
    "surf = ax.plot_surface(X, Y, Z, rstride=1, cstride=1, \n",
    "                      cmap=cm.YlOrRd,linewidth=0, antialiased=False)\n",
    "\n",
    "ax.zaxis.set_major_locator(LinearLocator(10))\n",
    "ax.zaxis.set_major_formatter(FormatStrFormatter('%.02f'))\n",
    "\n",
    "fig.colorbar(surf, shrink=0.5, aspect=5)\n",
    "\n",
    "plt.show()"
   ]
  },
  {
   "cell_type": "code",
   "execution_count": null,
   "metadata": {
    "collapsed": true
   },
   "outputs": [],
   "source": []
  }
 ],
 "metadata": {
  "kernelspec": {
   "display_name": "Python 2",
   "language": "python",
   "name": "python2"
  },
  "language_info": {
   "codemirror_mode": {
    "name": "ipython",
    "version": 2
   },
   "file_extension": ".py",
   "mimetype": "text/x-python",
   "name": "python",
   "nbconvert_exporter": "python",
   "pygments_lexer": "ipython2",
   "version": "2.7.10"
  }
 },
 "nbformat": 4,
 "nbformat_minor": 0
}
